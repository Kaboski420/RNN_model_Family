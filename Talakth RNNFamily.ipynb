{
 "cells": [
  {
   "cell_type": "markdown",
   "metadata": {},
   "source": [
    "## Importing the necessary Libraires"
   ]
  },
  {
   "cell_type": "code",
   "execution_count": 1,
   "metadata": {
    "colab": {
     "base_uri": "https://localhost:8080/"
    },
    "id": "staPw8MyEgtF",
    "outputId": "d1581884-cf61-498d-b378-88a67781dca8"
   },
   "outputs": [],
   "source": [
    "from pandas import read_csv\n",
    "#!pip install memory_profiler\n",
    "from memory_profiler import profile\n",
    "# supresses future warnings \n",
    "import warnings                                                 \n",
    "warnings.simplefilter(action='ignore')\n",
    "\n",
    "import time\n",
    "import warnings\n",
    "from sklearn.metrics import confusion_matrix, classification_report, auc, precision_recall_curve, average_precision_score\n",
    "from tensorflow.keras.models import Sequential\n",
    "from tensorflow.keras.layers import Dense\n",
    "from tensorflow.keras.wrappers.scikit_learn import KerasRegressor\n",
    "from tensorflow.keras.layers import LSTM\n",
    "from tensorflow.keras.layers import Dense\n",
    "from tensorflow.keras.layers import Flatten\n",
    "from tensorflow.keras.layers import Dropout\n",
    "from tensorflow.keras.layers import LSTM\n",
    "from tensorflow.keras.utils import to_categorical\n",
    "from sklearn.model_selection import cross_val_score\n",
    "from sklearn.model_selection import KFold\n",
    "from sklearn.pipeline import Pipeline\n",
    "from sklearn.model_selection import train_test_split\n",
    "from tensorflow.keras.callbacks import ModelCheckpoint\n",
    "from tensorflow.keras.layers import TimeDistributed\n",
    "from tensorflow.keras.layers import Conv1D\n",
    "from tensorflow.keras.layers import MaxPooling1D\n",
    "from tensorflow.keras.utils import to_categorical\n",
    "from tensorflow.keras.layers import Dense, LSTM, Dropout, GRU, Bidirectional\n",
    "from sklearn.metrics import confusion_matrix\n",
    "import numpy as np\n",
    "from sklearn.datasets import make_circles\n",
    "from sklearn.metrics import accuracy_score\n",
    "from sklearn.metrics import precision_score\n",
    "from sklearn.metrics import recall_score\n",
    "from sklearn.metrics import f1_score\n",
    "from sklearn.metrics import cohen_kappa_score\n",
    "from sklearn.metrics import roc_auc_score\n",
    "from sklearn.metrics import confusion_matrix\n",
    "\n",
    "# Import the matplotlib library for plotting\n",
    "import matplotlib.pyplot as plt\n",
    "\n",
    "# set plot style\n",
    "plt.style.use('seaborn-whitegrid')\n",
    "\n",
    "# Use the magic function to ensure plots render in a notebook\n",
    "%matplotlib inline\n",
    "\n",
    "# Import the seaborn library for plotting\n",
    "import seaborn as sns"
   ]
  },
  {
   "cell_type": "markdown",
   "metadata": {},
   "source": [
    "### Importing the Dataset and Preprocessing "
   ]
  },
  {
   "cell_type": "code",
   "execution_count": 2,
   "metadata": {
    "colab": {
     "base_uri": "https://localhost:8080/"
    },
    "id": "uw6IRCDMExTu",
    "outputId": "db8ed217-e30b-421e-e1de-f43aae571546"
   },
   "outputs": [
    {
     "data": {
      "text/plain": [
       "(14057, 10, 1)"
      ]
     },
     "execution_count": 2,
     "metadata": {},
     "output_type": "execute_result"
    }
   ],
   "source": [
    "dataset = read_csv(\"Data_injection_Binary.csv\")\n",
    "X= dataset .iloc[:, :-1].values\n",
    "X = X.reshape(X.shape[0], X.shape[1], 1)\n",
    "#X = dataset .iloc[:, :-1].values\n",
    "Y = dataset .iloc[:, -1].values\n",
    "X_train, X_test, y_train, y_test = train_test_split(X, Y, test_size = 0.2, random_state = 20)\n",
    "X_train.shape"
   ]
  },
  {
   "cell_type": "code",
   "execution_count": null,
   "metadata": {},
   "outputs": [],
   "source": []
  },
  {
   "cell_type": "markdown",
   "metadata": {},
   "source": [
    "# LSTM "
   ]
  },
  {
   "cell_type": "code",
   "execution_count": 3,
   "metadata": {
    "colab": {
     "base_uri": "https://localhost:8080/"
    },
    "id": "Uj9DB9YVExZs",
    "outputId": "083e15d1-8f05-4beb-ab0b-2f05e78463dc",
    "scrolled": false
   },
   "outputs": [
    {
     "name": "stdout",
     "output_type": "stream",
     "text": [
      "Model: \"sequential\"\n",
      "_________________________________________________________________\n",
      " Layer (type)                Output Shape              Param #   \n",
      "=================================================================\n",
      " conv1d (Conv1D)             (None, 9, 64)             192       \n",
      "                                                                 \n",
      " dense (Dense)               (None, 9, 16)             1040      \n",
      "                                                                 \n",
      " max_pooling1d (MaxPooling1D  (None, 4, 16)            0         \n",
      " )                                                               \n",
      "                                                                 \n",
      " lstm (LSTM)                 (None, 100)               46800     \n",
      "                                                                 \n",
      " flatten (Flatten)           (None, 100)               0         \n",
      "                                                                 \n",
      " dropout (Dropout)           (None, 100)               0         \n",
      "                                                                 \n",
      " dense_1 (Dense)             (None, 100)               10100     \n",
      "                                                                 \n",
      " dense_2 (Dense)             (None, 1)                 101       \n",
      "                                                                 \n",
      "=================================================================\n",
      "Total params: 58,233\n",
      "Trainable params: 58,233\n",
      "Non-trainable params: 0\n",
      "_________________________________________________________________\n",
      "Epoch 1/10\n",
      "440/440 [==============================] - 13s 16ms/step - loss: 0.5109 - accuracy: 0.7420 - val_loss: 0.4246 - val_accuracy: 0.7954\n",
      "Epoch 2/10\n",
      "440/440 [==============================] - 5s 10ms/step - loss: 0.4579 - accuracy: 0.7818 - val_loss: 0.4177 - val_accuracy: 0.8270\n",
      "Epoch 3/10\n",
      "440/440 [==============================] - 5s 11ms/step - loss: 0.4237 - accuracy: 0.8047 - val_loss: 0.3530 - val_accuracy: 0.8597\n",
      "Epoch 4/10\n",
      "440/440 [==============================] - 5s 11ms/step - loss: 0.3827 - accuracy: 0.8296 - val_loss: 0.3271 - val_accuracy: 0.8617\n",
      "Epoch 5/10\n",
      "440/440 [==============================] - 5s 10ms/step - loss: 0.3647 - accuracy: 0.8331 - val_loss: 0.3436 - val_accuracy: 0.8595\n",
      "Epoch 6/10\n",
      "440/440 [==============================] - 5s 10ms/step - loss: 0.3808 - accuracy: 0.8257 - val_loss: 0.3574 - val_accuracy: 0.8558\n",
      "Epoch 7/10\n",
      "440/440 [==============================] - 5s 11ms/step - loss: 0.3542 - accuracy: 0.8421 - val_loss: 0.3304 - val_accuracy: 0.8486\n",
      "Epoch 8/10\n",
      "440/440 [==============================] - 4s 10ms/step - loss: 0.3543 - accuracy: 0.8415 - val_loss: 0.3050 - val_accuracy: 0.8686\n",
      "Epoch 9/10\n",
      "440/440 [==============================] - 4s 10ms/step - loss: 0.3246 - accuracy: 0.8561 - val_loss: 0.2848 - val_accuracy: 0.8788\n",
      "Epoch 10/10\n",
      "440/440 [==============================] - 4s 10ms/step - loss: 0.3198 - accuracy: 0.8643 - val_loss: 0.2952 - val_accuracy: 0.8950\n"
     ]
    }
   ],
   "source": [
    "model1 = Sequential()\n",
    "model1.add(Conv1D(64, 2, activation=\"relu\", input_shape=(10,1)))\n",
    "model1.add(Dense(16, activation=\"relu\"))\n",
    "model1.add(MaxPooling1D())\n",
    "model1.add(LSTM(100))\n",
    "model1.add((Flatten()))\n",
    "model1.add(Dropout(0.5))\n",
    "model1.add(Dense(100, activation='relu'))\n",
    "#Output layer\n",
    "model1.add(Dense(1, activation='sigmoid'))\n",
    "model1.summary()\n",
    "model1.compile(loss = 'binary_crossentropy', optimizer = \"adam\",\n",
    "                   metrics = ['accuracy'])\n",
    "model1.save('1.h5')\n",
    "history = model1.fit(X_train, y_train ,validation_data= (X_test,y_test),epochs =10)"
   ]
  },
  {
   "cell_type": "code",
   "execution_count": 4,
   "metadata": {
    "scrolled": false
   },
   "outputs": [
    {
     "name": "stdout",
     "output_type": "stream",
     "text": [
      "ERROR: Could not find file <ipython-input-4-ae60ed66103d>\n",
      "NOTE: %mprun can only be used on functions defined in physical files, and not in the IPython environment.\n",
      "110/110 [==============================] - 8s 16ms/step\n",
      "======Simple LSTM ======\n",
      "TN : 1657\n",
      "FP : 118\n",
      "FN : 251\n",
      "TP : 1489\n",
      " \n",
      "Prob of Detection     : 85.57\n",
      " \n",
      "Prob of False Alarm   : 6.65\n",
      " \n",
      "Prob of Mis-Detection : 14.43\n",
      " \n",
      "Overall accuracy      : 0.9\n",
      "===============================\n",
      "\n",
      "              precision    recall  f1-score   support\n",
      "\n",
      "           0       0.87      0.93      0.90      1775\n",
      "           1       0.93      0.86      0.89      1740\n",
      "\n",
      "    accuracy                           0.90      3515\n",
      "   macro avg       0.90      0.89      0.89      3515\n",
      "weighted avg       0.90      0.90      0.89      3515\n",
      "\n"
     ]
    },
    {
     "data": {
      "image/png": "[encoded data removed]",
      "text/plain": [
       "<Figure size 432x288 with 2 Axes>"
      ]
     },
     "metadata": {
      "needs_background": "light"
     },
     "output_type": "display_data"
    },
    {
     "data": {
      "image/png": "[encoded data removed]",
      "text/plain": [
       "<Figure size 1080x1296 with 1 Axes>"
      ]
     },
     "metadata": {
      "needs_background": "light"
     },
     "output_type": "display_data"
    },
    {
     "name": "stdout",
     "output_type": "stream",
     "text": [
      "processing time 16.3\n",
      "training time 8.89\n",
      "training time per sample 0.0006324251262716084\n",
      "testing  time 0.0\n",
      "Filename: C:\\Users\\Hamza\\anaconda3\\lib\\site-packages\\memory_profiler.py\n",
      "\n",
      "Line #    Mem usage    Increment  Occurrences   Line Contents\n",
      "=============================================================\n",
      "  1183    470.0 MiB    470.0 MiB           1               @wraps(wrapped=func)\n",
      "  1184                                                     def wrapper(*args, **kwargs):\n",
      "  1185    470.0 MiB      0.0 MiB           1                   prof = get_prof()\n",
      "  1186    483.5 MiB     13.5 MiB           1                   val = prof(func)(*args, **kwargs)\n",
      "  1187    483.5 MiB      0.0 MiB           1                   show_results_bound(prof)\n",
      "  1188    483.5 MiB      0.0 MiB           1                   return val\n",
      "\n",
      "\n"
     ]
    },
    {
     "data": {
      "image/png": "[encoded data removed]",
      "text/plain": [
       "<Figure size 500x500 with 1 Axes>"
      ]
     },
     "metadata": {
      "needs_background": "light"
     },
     "output_type": "display_data"
    }
   ],
   "source": [
    "@profile\n",
    "@profile\n",
    "\n",
    "def my_func():\n",
    "    \n",
    "    time_a_1 = time.time()\n",
    "    time_c_1 = time.time()\n",
    "    \n",
    "    \n",
    "    \n",
    "    \n",
    "    # metrics calculation\n",
    "    pred1 = model1.predict(X_test)   \n",
    "    cm=confusion_matrix(y_test, np.round(pred1))\n",
    "    cm\n",
    "    TN, FP, FN, TP = confusion_matrix(y_test, np.round(pred1)).ravel()\n",
    "    \n",
    "    \n",
    "    \n",
    "    print('======Simple LSTM ======')\n",
    "    print('TN : {}\\nFP : {}\\nFN : {}\\nTP : {}'.format(TN, FP, FN, TP))\n",
    "    print(' ')\n",
    "    \n",
    "    \n",
    "    time_d_1 = time.time()\n",
    "    training_time_1 = round(time_d_1 - time_c_1,2)\n",
    "\n",
    "    time_e_1 = time.time()\n",
    "    \n",
    "    \n",
    "    \n",
    "    # Probability of Detection\n",
    "    prob_of_detect_1 = round((TP/(TP+FN))*100,2)\n",
    "    print('Prob of Detection     : {}'.format(prob_of_detect_1))\n",
    "    print(' ')\n",
    "    # Probability of False Alarm\n",
    "    prob_of_false_1 = round((FP/(FP+TN))*100,2)\n",
    "    print('Prob of False Alarm   : {}'.format(prob_of_false_1))\n",
    "    print(' ')\n",
    "    # Probability of Mis-Detection\n",
    "    prob_of_misdetect_1 = round((FN/(TP+FN))*100,2)\n",
    "    print('Prob of Mis-Detection : {}'.format(prob_of_misdetect_1))\n",
    "    print(' ')\n",
    "    # Overall accuracy\n",
    "    accuracy_1 = round((TP+TN)/(TP+FP+FN+TN),2)\n",
    "    print('Overall accuracy      : {}'.format(accuracy_1))\n",
    "    print(\"===============================\\n\")\n",
    "    \n",
    "    time_f_1 = time.time()\n",
    "    testing_time_1 = round(time_f_1 - time_e_1,2)\n",
    "\n",
    "    \n",
    "    \n",
    "    \n",
    "    sns.heatmap(cm, annot=True, fmt=\".3f\", linewidths=.5, square = True, cmap = 'Blues_r');\n",
    "    print(classification_report(y_test,np.round(pred1)))\n",
    "    \n",
    "    from sklearn.metrics import roc_curve, auc\n",
    "    import matplotlib.pyplot as plt\n",
    "    losses=history.history['loss']\n",
    "    val_losses=history.history['val_loss']\n",
    "    fig = plt.figure(figsize=(15,18))\n",
    "    plt.subplot(3, 2, 1)\n",
    "    plt.plot(losses, label='Training loss')\n",
    "    plt.plot(val_losses, label='Validation loss')\n",
    "    plt.title('Model loss')\n",
    "    plt.ylabel('loss value')\n",
    "    plt.xlabel('Noumber of epoch')\n",
    "    plt.show()\n",
    "    \n",
    "    fpr1, tpr1, threshold = roc_curve(y_test,np.round(pred1))\n",
    "    auc1 = auc(fpr1, tpr1)\n",
    "\n",
    "    plt.figure(figsize=(10, 10), dpi=50)\n",
    "    plt.plot(fpr1, tpr1, marker='^',color = \"g\", label='auc = %0.2f' % auc1)\n",
    "    plt.xlabel('False Positive Rate -->')\n",
    "    plt.ylabel('True Positive Rate -->')\n",
    "    plt.legend()\n",
    "    \n",
    "    time_b_1 = time.time()\n",
    "    processing_time_1 = round(time_b_1 - time_a_1,2)\n",
    "    \n",
    "    print('processing time', processing_time_1)\n",
    "    print('training time', training_time_1)\n",
    "    print('training time per sample', training_time_1 /len(X_train))\n",
    "    print('testing  time', testing_time_1)\n",
    "\n",
    "\n",
    "\n",
    "    \n",
    "if __name__ == '__main__':\n",
    "    my_func()"
   ]
  },
  {
   "cell_type": "markdown",
   "metadata": {},
   "source": [
    "# Bidirectional LSTM"
   ]
  },
  {
   "cell_type": "code",
   "execution_count": 5,
   "metadata": {
    "colab": {
     "base_uri": "https://localhost:8080/"
    },
    "id": "DmbM2IEBE8Ln",
    "outputId": "95b0871b-8f04-4423-867a-085ce3954202",
    "scrolled": false
   },
   "outputs": [
    {
     "name": "stdout",
     "output_type": "stream",
     "text": [
      "Model: \"sequential_1\"\n",
      "_________________________________________________________________\n",
      " Layer (type)                Output Shape              Param #   \n",
      "=================================================================\n",
      " conv1d_1 (Conv1D)           (None, 9, 64)             192       \n",
      "                                                                 \n",
      " dense_3 (Dense)             (None, 9, 16)             1040      \n",
      "                                                                 \n",
      " max_pooling1d_1 (MaxPooling  (None, 4, 16)            0         \n",
      " 1D)                                                             \n",
      "                                                                 \n",
      " bidirectional (Bidirectiona  (None, 200)              93600     \n",
      " l)                                                              \n",
      "                                                                 \n",
      " flatten_1 (Flatten)         (None, 200)               0         \n",
      "                                                                 \n",
      " dropout_1 (Dropout)         (None, 200)               0         \n",
      "                                                                 \n",
      " dense_4 (Dense)             (None, 100)               20100     \n",
      "                                                                 \n",
      " dense_5 (Dense)             (None, 1)                 101       \n",
      "                                                                 \n",
      "=================================================================\n",
      "Total params: 115,033\n",
      "Trainable params: 115,033\n",
      "Non-trainable params: 0\n",
      "_________________________________________________________________\n",
      "Epoch 1/10\n",
      "440/440 [==============================] - 11s 13ms/step - loss: 79963.6172 - accuracy: 0.6866 - val_loss: 0.5308 - val_accuracy: 0.8526\n",
      "Epoch 2/10\n",
      "440/440 [==============================] - 4s 10ms/step - loss: 0.4706 - accuracy: 0.8248 - val_loss: 0.3204 - val_accuracy: 0.8646\n",
      "Epoch 3/10\n",
      "440/440 [==============================] - 5s 12ms/step - loss: 0.3554 - accuracy: 0.8488 - val_loss: 0.3302 - val_accuracy: 0.8842\n",
      "Epoch 4/10\n",
      "440/440 [==============================] - 4s 9ms/step - loss: 0.3708 - accuracy: 0.8655 - val_loss: 0.2987 - val_accuracy: 0.9061\n",
      "Epoch 5/10\n",
      "440/440 [==============================] - 4s 8ms/step - loss: 0.3159 - accuracy: 0.8700 - val_loss: 0.2876 - val_accuracy: 0.8933\n",
      "Epoch 6/10\n",
      "440/440 [==============================] - 5s 11ms/step - loss: 0.2967 - accuracy: 0.8738 - val_loss: 0.2601 - val_accuracy: 0.9050\n",
      "Epoch 7/10\n",
      "440/440 [==============================] - 5s 11ms/step - loss: 0.2904 - accuracy: 0.8827 - val_loss: 0.2607 - val_accuracy: 0.9149\n",
      "Epoch 8/10\n",
      "440/440 [==============================] - 6s 14ms/step - loss: 0.3074 - accuracy: 0.8773 - val_loss: 0.2667 - val_accuracy: 0.9104\n",
      "Epoch 9/10\n",
      "440/440 [==============================] - 4s 10ms/step - loss: 1205.2769 - accuracy: 0.8567 - val_loss: 0.2775 - val_accuracy: 0.8859\n",
      "Epoch 10/10\n",
      "440/440 [==============================] - 5s 12ms/step - loss: 0.2872 - accuracy: 0.8799 - val_loss: 0.2620 - val_accuracy: 0.9098\n"
     ]
    }
   ],
   "source": [
    "from tensorflow.keras.layers import Bidirectional\n",
    "model2 = Sequential()\n",
    "model2.add(Conv1D(64, 2, activation=\"relu\", input_shape=(10,1)))\n",
    "model2.add(Dense(16, activation=\"relu\"))\n",
    "model2.add(MaxPooling1D())\n",
    "model2.add(Bidirectional(LSTM(100, activation='relu')))\n",
    "model2.add((Flatten()))\n",
    "model2.add(Dropout(0.5))\n",
    "model2.add(Dense(100, activation='relu'))\n",
    "#Output layer\n",
    "model2.add(Dense(1, activation='sigmoid'))\n",
    "model2.summary()\n",
    "model2.compile(loss = 'binary_crossentropy', \n",
    "     optimizer = \"adam\",               \n",
    "              metrics = ['accuracy'])\n",
    "history2 = model2.fit(X_train, y_train ,validation_data= (X_test,y_test),epochs =10)"
   ]
  },
  {
   "cell_type": "code",
   "execution_count": 6,
   "metadata": {
    "scrolled": false
   },
   "outputs": [
    {
     "name": "stdout",
     "output_type": "stream",
     "text": [
      "ERROR: Could not find file <ipython-input-6-f3e90ec5e9af>\n",
      "NOTE: %mprun can only be used on functions defined in physical files, and not in the IPython environment.\n",
      "110/110 [==============================] - 4s 18ms/step\n",
      "======Bidirectional LSTM ======\n",
      "TN : 1641\n",
      "FP : 134\n",
      "FN : 183\n",
      "TP : 1557\n",
      " \n",
      "Prob of Detection     : 89.48\n",
      " \n",
      "Prob of False Alarm   : 7.55\n",
      " \n",
      "Prob of Mis-Detection : 10.52\n",
      " \n",
      "Overall accuracy      : 0.91\n",
      "===============================\n",
      "\n",
      "              precision    recall  f1-score   support\n",
      "\n",
      "           0       0.90      0.92      0.91      1775\n",
      "           1       0.92      0.89      0.91      1740\n",
      "\n",
      "    accuracy                           0.91      3515\n",
      "   macro avg       0.91      0.91      0.91      3515\n",
      "weighted avg       0.91      0.91      0.91      3515\n",
      "\n"
     ]
    },
    {
     "data": {
      "image/png": "[encoded data removed]",
      "text/plain": [
       "<Figure size 432x288 with 2 Axes>"
      ]
     },
     "metadata": {
      "needs_background": "light"
     },
     "output_type": "display_data"
    },
    {
     "data": {
      "image/png": "[encoded data removed]",
      "text/plain": [
       "<Figure size 1080x1296 with 1 Axes>"
      ]
     },
     "metadata": {
      "needs_background": "light"
     },
     "output_type": "display_data"
    },
    {
     "name": "stdout",
     "output_type": "stream",
     "text": [
      "processing time 12.12\n",
      "training time 4.85\n",
      "training time per sample 0.0003450238315430035\n",
      "testing  time 0.01\n",
      "Filename: C:\\Users\\Hamza\\anaconda3\\lib\\site-packages\\memory_profiler.py\n",
      "\n",
      "Line #    Mem usage    Increment  Occurrences   Line Contents\n",
      "=============================================================\n",
      "  1183    559.9 MiB    559.9 MiB           1               @wraps(wrapped=func)\n",
      "  1184                                                     def wrapper(*args, **kwargs):\n",
      "  1185    559.9 MiB      0.0 MiB           1                   prof = get_prof()\n",
      "  1186    563.6 MiB      3.7 MiB           1                   val = prof(func)(*args, **kwargs)\n",
      "  1187    563.6 MiB      0.0 MiB           1                   show_results_bound(prof)\n",
      "  1188    563.6 MiB      0.0 MiB           1                   return val\n",
      "\n",
      "\n"
     ]
    },
    {
     "data": {
      "image/png": "[encoded data removed]",
      "text/plain": [
       "<Figure size 500x500 with 1 Axes>"
      ]
     },
     "metadata": {
      "needs_background": "light"
     },
     "output_type": "display_data"
    }
   ],
   "source": [
    "@profile\n",
    "@profile\n",
    "\n",
    "def my_func():\n",
    "    \n",
    "    time_a_1 = time.time()\n",
    "    time_c_1 = time.time()\n",
    "    \n",
    "    \n",
    "    \n",
    "    \n",
    "    # metrics calculation\n",
    "    pred2 = model2.predict(X_test)   \n",
    "    cm=confusion_matrix(y_test, np.round(pred2))\n",
    "    cm\n",
    "    TN, FP, FN, TP = confusion_matrix(y_test, np.round(pred2)).ravel()\n",
    "    \n",
    "    \n",
    "    \n",
    "    print('======Bidirectional LSTM ======')\n",
    "    print('TN : {}\\nFP : {}\\nFN : {}\\nTP : {}'.format(TN, FP, FN, TP))\n",
    "    print(' ')\n",
    "    \n",
    "    \n",
    "    time_d_1 = time.time()\n",
    "    training_time_1 = round(time_d_1 - time_c_1,2)\n",
    "\n",
    "    time_e_1 = time.time()\n",
    "    \n",
    "    \n",
    "    \n",
    "    # Probability of Detection\n",
    "    prob_of_detect_1 = round((TP/(TP+FN))*100,2)\n",
    "    print('Prob of Detection     : {}'.format(prob_of_detect_1))\n",
    "    print(' ')\n",
    "    # Probability of False Alarm\n",
    "    prob_of_false_1 = round((FP/(FP+TN))*100,2)\n",
    "    print('Prob of False Alarm   : {}'.format(prob_of_false_1))\n",
    "    print(' ')\n",
    "    # Probability of Mis-Detection\n",
    "    prob_of_misdetect_1 = round((FN/(TP+FN))*100,2)\n",
    "    print('Prob of Mis-Detection : {}'.format(prob_of_misdetect_1))\n",
    "    print(' ')\n",
    "    # Overall accuracy\n",
    "    accuracy_1 = round((TP+TN)/(TP+FP+FN+TN),2)\n",
    "    print('Overall accuracy      : {}'.format(accuracy_1))\n",
    "    print(\"===============================\\n\")\n",
    "    \n",
    "    time_f_1 = time.time()\n",
    "    testing_time_1 = round(time_f_1 - time_e_1,2)\n",
    "\n",
    "    \n",
    "    \n",
    "    \n",
    "    sns.heatmap(cm, annot=True, fmt=\".3f\", linewidths=.5, square = True, cmap = 'Blues_r');\n",
    "    print(classification_report(y_test,np.round(pred2)))\n",
    "    \n",
    "    from sklearn.metrics import roc_curve, auc\n",
    "    import matplotlib.pyplot as plt\n",
    "    losses=history2.history['loss']\n",
    "    val_losses=history2.history['val_loss']\n",
    "    fig = plt.figure(figsize=(15,18))\n",
    "    plt.subplot(3, 2, 1)\n",
    "    plt.plot(losses, label='Training loss')\n",
    "    plt.plot(val_losses, label='Validation loss')\n",
    "    plt.title('Model loss')\n",
    "    plt.ylabel('loss value')\n",
    "    plt.xlabel('Noumber of epoch')\n",
    "    plt.show()\n",
    "    \n",
    "    fpr1, tpr1, threshold = roc_curve(y_test,np.round(pred2))\n",
    "    auc1 = auc(fpr1, tpr1)\n",
    "\n",
    "    plt.figure(figsize=(10, 10), dpi=50)\n",
    "    plt.plot(fpr1, tpr1, marker='^',color = \"g\", label='auc = %0.2f' % auc1)\n",
    "    plt.xlabel('False Positive Rate -->')\n",
    "    plt.ylabel('True Positive Rate -->')\n",
    "    plt.legend()\n",
    "    \n",
    "    time_b_1 = time.time()\n",
    "    processing_time_1 = round(time_b_1 - time_a_1,2)\n",
    "    print('processing time', processing_time_1)\n",
    "    print('training time', training_time_1)\n",
    "    print('training time per sample', training_time_1 /len(X_train))\n",
    "    print('testing  time', testing_time_1)\n",
    "\n",
    "\n",
    "\n",
    "    \n",
    "if __name__ == '__main__':\n",
    "    my_func()"
   ]
  },
  {
   "cell_type": "markdown",
   "metadata": {},
   "source": [
    "# GRU "
   ]
  },
  {
   "cell_type": "code",
   "execution_count": 7,
   "metadata": {
    "colab": {
     "base_uri": "https://localhost:8080/"
    },
    "id": "fBZveujGFEbp",
    "outputId": "928cf1aa-ce56-4440-9f82-fcdad42bbec9",
    "scrolled": false
   },
   "outputs": [
    {
     "name": "stdout",
     "output_type": "stream",
     "text": [
      "Model: \"sequential_2\"\n",
      "_________________________________________________________________\n",
      " Layer (type)                Output Shape              Param #   \n",
      "=================================================================\n",
      " conv1d_2 (Conv1D)           (None, 9, 64)             192       \n",
      "                                                                 \n",
      " dense_6 (Dense)             (None, 9, 16)             1040      \n",
      "                                                                 \n",
      " max_pooling1d_2 (MaxPooling  (None, 4, 16)            0         \n",
      " 1D)                                                             \n",
      "                                                                 \n",
      " gru (GRU)                   (None, 100)               35400     \n",
      "                                                                 \n",
      " flatten_2 (Flatten)         (None, 100)               0         \n",
      "                                                                 \n",
      " dropout_2 (Dropout)         (None, 100)               0         \n",
      "                                                                 \n",
      " dense_7 (Dense)             (None, 100)               10100     \n",
      "                                                                 \n",
      " dense_8 (Dense)             (None, 1)                 101       \n",
      "                                                                 \n",
      "=================================================================\n",
      "Total params: 46,833\n",
      "Trainable params: 46,833\n",
      "Non-trainable params: 0\n",
      "_________________________________________________________________\n",
      "Epoch 1/10\n",
      "440/440 [==============================] - 10s 11ms/step - loss: 0.5462 - accuracy: 0.7185 - val_loss: 0.4512 - val_accuracy: 0.7835\n",
      "Epoch 2/10\n",
      "440/440 [==============================] - 4s 9ms/step - loss: 0.4503 - accuracy: 0.7908 - val_loss: 0.4026 - val_accuracy: 0.8168\n",
      "Epoch 3/10\n",
      "440/440 [==============================] - 4s 10ms/step - loss: 0.4415 - accuracy: 0.7933 - val_loss: 0.3733 - val_accuracy: 0.8270\n",
      "Epoch 4/10\n",
      "440/440 [==============================] - 4s 10ms/step - loss: 0.3992 - accuracy: 0.8150 - val_loss: 0.3166 - val_accuracy: 0.8501\n",
      "Epoch 5/10\n",
      "440/440 [==============================] - 5s 12ms/step - loss: 0.3655 - accuracy: 0.8333 - val_loss: 0.3220 - val_accuracy: 0.8521\n",
      "Epoch 6/10\n",
      "440/440 [==============================] - 5s 10ms/step - loss: 0.3614 - accuracy: 0.8370 - val_loss: 0.3385 - val_accuracy: 0.8438\n",
      "Epoch 7/10\n",
      "440/440 [==============================] - 5s 10ms/step - loss: 0.3412 - accuracy: 0.8496 - val_loss: 0.2867 - val_accuracy: 0.8822\n",
      "Epoch 8/10\n",
      "440/440 [==============================] - 4s 9ms/step - loss: 0.3176 - accuracy: 0.8627 - val_loss: 0.2841 - val_accuracy: 0.8802\n",
      "Epoch 9/10\n",
      "440/440 [==============================] - 5s 10ms/step - loss: 0.2988 - accuracy: 0.8704 - val_loss: 0.2588 - val_accuracy: 0.8919\n",
      "Epoch 10/10\n",
      "440/440 [==============================] - 4s 10ms/step - loss: 0.2893 - accuracy: 0.8764 - val_loss: 0.2545 - val_accuracy: 0.9044\n"
     ]
    }
   ],
   "source": [
    "# load data and arrange into Pandas dataframe\n",
    "model3 = Sequential()\n",
    "model3.add(Conv1D(64, 2, activation=\"relu\", input_shape=(10,1)))\n",
    "model3.add(Dense(16, activation=\"relu\"))\n",
    "model3.add(MaxPooling1D())\n",
    "model3.add(GRU(100))\n",
    "model3.add((Flatten()))\n",
    "model3.add(Dropout(0.5))\n",
    "model3.add(Dense(100, activation='relu'))\n",
    "#Output layer\n",
    "model3.add(Dense(1, activation='sigmoid'))\n",
    "model3.summary()\n",
    "model3.compile(loss = 'binary_crossentropy', \n",
    "     optimizer = \"adam\",               \n",
    "              metrics = ['accuracy'])\n",
    "history3 = model3.fit(X_train, y_train ,validation_data= (X_test,y_test),epochs =10)"
   ]
  },
  {
   "cell_type": "code",
   "execution_count": 8,
   "metadata": {
    "scrolled": false
   },
   "outputs": [
    {
     "name": "stdout",
     "output_type": "stream",
     "text": [
      "ERROR: Could not find file <ipython-input-8-a51f3c8d4593>\n",
      "NOTE: %mprun can only be used on functions defined in physical files, and not in the IPython environment.\n",
      "110/110 [==============================] - 5s 16ms/step\n",
      "======Simple GRU ======\n",
      "TN : 1626\n",
      "FP : 149\n",
      "FN : 187\n",
      "TP : 1553\n",
      " \n",
      "Prob of Detection     : 89.25\n",
      " \n",
      "Prob of False Alarm   : 8.39\n",
      " \n",
      "Prob of Mis-Detection : 10.75\n",
      " \n",
      "Overall accuracy      : 0.9\n",
      "===============================\n",
      "\n",
      "              precision    recall  f1-score   support\n",
      "\n",
      "           0       0.90      0.92      0.91      1775\n",
      "           1       0.91      0.89      0.90      1740\n",
      "\n",
      "    accuracy                           0.90      3515\n",
      "   macro avg       0.90      0.90      0.90      3515\n",
      "weighted avg       0.90      0.90      0.90      3515\n",
      "\n"
     ]
    },
    {
     "data": {
      "image/png": "[encoded data removed]",
      "text/plain": [
       "<Figure size 432x288 with 2 Axes>"
      ]
     },
     "metadata": {
      "needs_background": "light"
     },
     "output_type": "display_data"
    },
    {
     "data": {
      "image/png": "[encoded data removed]",
      "text/plain": [
       "<Figure size 1080x1296 with 1 Axes>"
      ]
     },
     "metadata": {
      "needs_background": "light"
     },
     "output_type": "display_data"
    },
    {
     "name": "stdout",
     "output_type": "stream",
     "text": [
      "processing time 11.11\n",
      "training time 5.97\n",
      "training time per sample 0.0004246994380024187\n",
      "testing  time 0.0\n",
      "Filename: C:\\Users\\Hamza\\anaconda3\\lib\\site-packages\\memory_profiler.py\n",
      "\n",
      "Line #    Mem usage    Increment  Occurrences   Line Contents\n",
      "=============================================================\n",
      "  1183    616.0 MiB    616.0 MiB           1               @wraps(wrapped=func)\n",
      "  1184                                                     def wrapper(*args, **kwargs):\n",
      "  1185    616.0 MiB      0.0 MiB           1                   prof = get_prof()\n",
      "  1186    625.3 MiB      9.2 MiB           1                   val = prof(func)(*args, **kwargs)\n",
      "  1187    625.3 MiB      0.0 MiB           1                   show_results_bound(prof)\n",
      "  1188    625.3 MiB      0.0 MiB           1                   return val\n",
      "\n",
      "\n"
     ]
    },
    {
     "data": {
      "image/png": "[encoded data removed]",
      "text/plain": [
       "<Figure size 500x500 with 1 Axes>"
      ]
     },
     "metadata": {
      "needs_background": "light"
     },
     "output_type": "display_data"
    }
   ],
   "source": [
    "@profile\n",
    "@profile\n",
    "\n",
    "def my_func():\n",
    "    \n",
    "    time_a_1 = time.time()\n",
    "    time_c_1 = time.time()\n",
    "    \n",
    "    \n",
    "    \n",
    "    \n",
    "    # metrics calculation\n",
    "    pred3 = model3.predict(X_test)   \n",
    "    cm=confusion_matrix(y_test, np.round(pred3))\n",
    "    cm\n",
    "    TN, FP, FN, TP = confusion_matrix(y_test, np.round(pred3)).ravel()\n",
    "    \n",
    "    \n",
    "    \n",
    "    print('======Simple GRU ======')\n",
    "    print('TN : {}\\nFP : {}\\nFN : {}\\nTP : {}'.format(TN, FP, FN, TP))\n",
    "    print(' ')\n",
    "    \n",
    "    \n",
    "    time_d_1 = time.time()\n",
    "    training_time_1 = round(time_d_1 - time_c_1,2)\n",
    "\n",
    "    time_e_1 = time.time()\n",
    "    \n",
    "    \n",
    "    \n",
    "    # Probability of Detection\n",
    "    prob_of_detect_1 = round((TP/(TP+FN))*100,2)\n",
    "    print('Prob of Detection     : {}'.format(prob_of_detect_1))\n",
    "    print(' ')\n",
    "    # Probability of False Alarm\n",
    "    prob_of_false_1 = round((FP/(FP+TN))*100,2)\n",
    "    print('Prob of False Alarm   : {}'.format(prob_of_false_1))\n",
    "    print(' ')\n",
    "    # Probability of Mis-Detection\n",
    "    prob_of_misdetect_1 = round((FN/(TP+FN))*100,2)\n",
    "    print('Prob of Mis-Detection : {}'.format(prob_of_misdetect_1))\n",
    "    print(' ')\n",
    "    # Overall accuracy\n",
    "    accuracy_1 = round((TP+TN)/(TP+FP+FN+TN),2)\n",
    "    print('Overall accuracy      : {}'.format(accuracy_1))\n",
    "    print(\"===============================\\n\")\n",
    "    \n",
    "    time_f_1 = time.time()\n",
    "    testing_time_1 = round(time_f_1 - time_e_1,2)\n",
    "\n",
    "    \n",
    "    \n",
    "    \n",
    "    sns.heatmap(cm, annot=True, fmt=\".3f\", linewidths=.5, square = True, cmap = 'Blues_r');\n",
    "    print(classification_report(y_test,np.round(pred3)))\n",
    "    \n",
    "    from sklearn.metrics import roc_curve, auc\n",
    "    import matplotlib.pyplot as plt\n",
    "    losses=history3.history['loss']\n",
    "    val_losses=history3.history['val_loss']\n",
    "    fig = plt.figure(figsize=(15,18))\n",
    "    plt.subplot(3, 2, 1)\n",
    "    plt.plot(losses, label='Training loss')\n",
    "    plt.plot(val_losses, label='Validation loss')\n",
    "    plt.title('Model loss')\n",
    "    plt.ylabel('loss value')\n",
    "    plt.xlabel('Noumber of epoch')\n",
    "    plt.show()\n",
    "    \n",
    "    fpr1, tpr1, threshold = roc_curve(y_test,np.round(pred3))\n",
    "    auc1 = auc(fpr1, tpr1)\n",
    "\n",
    "    plt.figure(figsize=(10, 10), dpi=50)\n",
    "    plt.plot(fpr1, tpr1, marker='^',color = \"g\", label='auc = %0.2f' % auc1)\n",
    "    plt.xlabel('False Positive Rate -->')\n",
    "    plt.ylabel('True Positive Rate -->')\n",
    "    plt.legend()\n",
    "    \n",
    "    time_b_1 = time.time()\n",
    "    processing_time_1 = round(time_b_1 - time_a_1,2)\n",
    "    \n",
    "    print('processing time', processing_time_1)\n",
    "    print('training time', training_time_1)\n",
    "    print('training time per sample', training_time_1 /len(X_train))\n",
    "    print('testing  time', testing_time_1)\n",
    "\n",
    "\n",
    "\n",
    "    \n",
    "if __name__ == '__main__':\n",
    "    my_func()"
   ]
  },
  {
   "cell_type": "markdown",
   "metadata": {},
   "source": [
    "# Bidirectional GRU"
   ]
  },
  {
   "cell_type": "code",
   "execution_count": 9,
   "metadata": {
    "colab": {
     "base_uri": "https://localhost:8080/"
    },
    "id": "pVuMxLRuFMJn",
    "outputId": "0210ef29-4f34-4d16-ad7c-56b07c8ca9e1"
   },
   "outputs": [
    {
     "name": "stdout",
     "output_type": "stream",
     "text": [
      "Model: \"sequential_3\"\n",
      "_________________________________________________________________\n",
      " Layer (type)                Output Shape              Param #   \n",
      "=================================================================\n",
      " conv1d_3 (Conv1D)           (None, 9, 64)             192       \n",
      "                                                                 \n",
      " dense_9 (Dense)             (None, 9, 16)             1040      \n",
      "                                                                 \n",
      " max_pooling1d_3 (MaxPooling  (None, 4, 16)            0         \n",
      " 1D)                                                             \n",
      "                                                                 \n",
      " bidirectional_1 (Bidirectio  (None, 200)              70800     \n",
      " nal)                                                            \n",
      "                                                                 \n",
      " flatten_3 (Flatten)         (None, 200)               0         \n",
      "                                                                 \n",
      " dropout_3 (Dropout)         (None, 200)               0         \n",
      "                                                                 \n",
      " dense_10 (Dense)            (None, 100)               20100     \n",
      "                                                                 \n",
      " dense_11 (Dense)            (None, 1)                 101       \n",
      "                                                                 \n",
      "=================================================================\n",
      "Total params: 92,233\n",
      "Trainable params: 92,233\n",
      "Non-trainable params: 0\n",
      "_________________________________________________________________\n",
      "Epoch 1/10\n",
      "440/440 [==============================] - 12s 11ms/step - loss: 486172.3125 - accuracy: 0.6384 - val_loss: 2.3566 - val_accuracy: 0.7420\n",
      "Epoch 2/10\n",
      "440/440 [==============================] - 5s 11ms/step - loss: 124.5644 - accuracy: 0.7463 - val_loss: 0.6380 - val_accuracy: 0.8526\n",
      "Epoch 3/10\n",
      "440/440 [==============================] - 4s 10ms/step - loss: 1.0618 - accuracy: 0.7946 - val_loss: 0.3432 - val_accuracy: 0.8572\n",
      "Epoch 4/10\n",
      "440/440 [==============================] - 5s 11ms/step - loss: 0.3985 - accuracy: 0.8325 - val_loss: 0.2590 - val_accuracy: 0.9007\n",
      "Epoch 5/10\n",
      "440/440 [==============================] - 4s 9ms/step - loss: 0.3418 - accuracy: 0.8560 - val_loss: 0.2903 - val_accuracy: 0.8654\n",
      "Epoch 6/10\n",
      "440/440 [==============================] - 4s 10ms/step - loss: 0.3016 - accuracy: 0.8729 - val_loss: 0.2867 - val_accuracy: 0.8762\n",
      "Epoch 7/10\n",
      "440/440 [==============================] - 5s 10ms/step - loss: 0.2930 - accuracy: 0.8749 - val_loss: 0.2355 - val_accuracy: 0.9127\n",
      "Epoch 8/10\n",
      "440/440 [==============================] - 6s 13ms/step - loss: 0.2760 - accuracy: 0.8848 - val_loss: 0.2432 - val_accuracy: 0.9075\n",
      "Epoch 9/10\n",
      "440/440 [==============================] - 6s 14ms/step - loss: 0.3308 - accuracy: 0.8821 - val_loss: 0.2419 - val_accuracy: 0.9033\n",
      "Epoch 10/10\n",
      "440/440 [==============================] - 6s 14ms/step - loss: 0.2710 - accuracy: 0.8872 - val_loss: 0.2610 - val_accuracy: 0.8896\n"
     ]
    }
   ],
   "source": [
    "from tensorflow.keras.layers import Bidirectional\n",
    "model4 = Sequential()\n",
    "model4.add(Conv1D(64, 2, activation=\"relu\", input_shape=(10,1)))\n",
    "model4.add(Dense(16, activation=\"relu\"))\n",
    "model4.add(MaxPooling1D())\n",
    "model4.add(Bidirectional(GRU(100, activation='relu')))\n",
    "model4.add((Flatten()))\n",
    "model4.add(Dropout(0.5))\n",
    "model4.add(Dense(100, activation='relu'))\n",
    "#Output layer\n",
    "model4.add(Dense(1, activation='sigmoid'))\n",
    "model4.summary()\n",
    "model4.compile(loss = 'binary_crossentropy', \n",
    "     optimizer = \"adam\",               \n",
    "              metrics = ['accuracy'])\n",
    "history4 = model4.fit(X_train, y_train ,validation_data= (X_test,y_test),epochs =10)"
   ]
  },
  {
   "cell_type": "code",
   "execution_count": 10,
   "metadata": {
    "scrolled": false
   },
   "outputs": [
    {
     "name": "stdout",
     "output_type": "stream",
     "text": [
      "ERROR: Could not find file <ipython-input-10-53c939973657>\n",
      "NOTE: %mprun can only be used on functions defined in physical files, and not in the IPython environment.\n",
      "110/110 [==============================] - 6s 18ms/step\n",
      "======Bidirectional GRU ======\n",
      "TN : 1590\n",
      "FP : 185\n",
      "FN : 203\n",
      "TP : 1537\n",
      " \n",
      "Prob of Detection     : 88.33\n",
      " \n",
      "Prob of False Alarm   : 10.42\n",
      " \n",
      "Prob of Mis-Detection : 11.67\n",
      " \n",
      "Overall accuracy      : 0.89\n",
      "===============================\n",
      "\n",
      "              precision    recall  f1-score   support\n",
      "\n",
      "           0       0.89      0.90      0.89      1775\n",
      "           1       0.89      0.88      0.89      1740\n",
      "\n",
      "    accuracy                           0.89      3515\n",
      "   macro avg       0.89      0.89      0.89      3515\n",
      "weighted avg       0.89      0.89      0.89      3515\n",
      "\n"
     ]
    },
    {
     "data": {
      "image/png": "[encoded data removed]",
      "text/plain": [
       "<Figure size 432x288 with 2 Axes>"
      ]
     },
     "metadata": {
      "needs_background": "light"
     },
     "output_type": "display_data"
    },
    {
     "data": {
      "image/png": "[encoded data removed]",
      "text/plain": [
       "<Figure size 1080x1296 with 1 Axes>"
      ]
     },
     "metadata": {
      "needs_background": "light"
     },
     "output_type": "display_data"
    },
    {
     "name": "stdout",
     "output_type": "stream",
     "text": [
      "processing time 15.01\n",
      "training time 7.34\n",
      "training time per sample 0.0005221597780465249\n",
      "testing  time 0.0\n",
      "Filename: C:\\Users\\Hamza\\anaconda3\\lib\\site-packages\\memory_profiler.py\n",
      "\n",
      "Line #    Mem usage    Increment  Occurrences   Line Contents\n",
      "=============================================================\n",
      "  1183    702.6 MiB    702.6 MiB           1               @wraps(wrapped=func)\n",
      "  1184                                                     def wrapper(*args, **kwargs):\n",
      "  1185    702.6 MiB      0.0 MiB           1                   prof = get_prof()\n",
      "  1186    707.6 MiB      5.0 MiB           1                   val = prof(func)(*args, **kwargs)\n",
      "  1187    707.6 MiB      0.0 MiB           1                   show_results_bound(prof)\n",
      "  1188    707.6 MiB      0.0 MiB           1                   return val\n",
      "\n",
      "\n"
     ]
    },
    {
     "data": {
      "image/png": "[encoded data removed]",
      "text/plain": [
       "<Figure size 500x500 with 1 Axes>"
      ]
     },
     "metadata": {
      "needs_background": "light"
     },
     "output_type": "display_data"
    }
   ],
   "source": [
    "@profile\n",
    "@profile\n",
    "\n",
    "def my_func():\n",
    "    \n",
    "    time_a_1 = time.time()\n",
    "    time_c_1 = time.time()\n",
    "    \n",
    "    \n",
    "    \n",
    "    \n",
    "    # metrics calculation\n",
    "    pred4 = model4.predict(X_test)   \n",
    "    cm=confusion_matrix(y_test, np.round(pred4))\n",
    "    cm\n",
    "    TN, FP, FN, TP = confusion_matrix(y_test, np.round(pred4)).ravel()\n",
    "    \n",
    "    \n",
    "    \n",
    "    print('======Bidirectional GRU ======')\n",
    "    print('TN : {}\\nFP : {}\\nFN : {}\\nTP : {}'.format(TN, FP, FN, TP))\n",
    "    print(' ')\n",
    "    \n",
    "    \n",
    "    time_d_1 = time.time()\n",
    "    training_time_1 = round(time_d_1 - time_c_1,2)\n",
    "\n",
    "    time_e_1 = time.time()\n",
    "    \n",
    "    \n",
    "    \n",
    "    # Probability of Detection\n",
    "    prob_of_detect_1 = round((TP/(TP+FN))*100,2)\n",
    "    print('Prob of Detection     : {}'.format(prob_of_detect_1))\n",
    "    print(' ')\n",
    "    # Probability of False Alarm\n",
    "    prob_of_false_1 = round((FP/(FP+TN))*100,2)\n",
    "    print('Prob of False Alarm   : {}'.format(prob_of_false_1))\n",
    "    print(' ')\n",
    "    # Probability of Mis-Detection\n",
    "    prob_of_misdetect_1 = round((FN/(TP+FN))*100,2)\n",
    "    print('Prob of Mis-Detection : {}'.format(prob_of_misdetect_1))\n",
    "    print(' ')\n",
    "    # Overall accuracy\n",
    "    accuracy_1 = round((TP+TN)/(TP+FP+FN+TN),2)\n",
    "    print('Overall accuracy      : {}'.format(accuracy_1))\n",
    "    print(\"===============================\\n\")\n",
    "    \n",
    "    time_f_1 = time.time()\n",
    "    testing_time_1 = round(time_f_1 - time_e_1,2)\n",
    "\n",
    "    \n",
    "    \n",
    "    \n",
    "    sns.heatmap(cm, annot=True, fmt=\".3f\", linewidths=.5, square = True, cmap = 'Blues_r');\n",
    "    print(classification_report(y_test,np.round(pred4)))\n",
    "    \n",
    "    from sklearn.metrics import roc_curve, auc\n",
    "    import matplotlib.pyplot as plt\n",
    "    losses=history4.history['loss']\n",
    "    val_losses=history4.history['val_loss']\n",
    "    fig = plt.figure(figsize=(15,18))\n",
    "    plt.subplot(3, 2, 1)\n",
    "    plt.plot(losses, label='Training loss')\n",
    "    plt.plot(val_losses, label='Validation loss')\n",
    "    plt.title('Model loss')\n",
    "    plt.ylabel('loss value')\n",
    "    plt.xlabel('Noumber of epoch')\n",
    "    plt.show()\n",
    "    \n",
    "    fpr1, tpr1, threshold = roc_curve(y_test,np.round(pred4))\n",
    "    auc1 = auc(fpr1, tpr1)\n",
    "\n",
    "    plt.figure(figsize=(10, 10), dpi=50)\n",
    "    plt.plot(fpr1, tpr1, marker='^',color = \"g\", label='auc = %0.2f' % auc1)\n",
    "    plt.xlabel('False Positive Rate -->')\n",
    "    plt.ylabel('True Positive Rate -->')\n",
    "    plt.legend()\n",
    "    \n",
    "    time_b_1 = time.time()\n",
    "    processing_time_1 = round(time_b_1 - time_a_1,2)\n",
    "    \n",
    "    print('processing time', processing_time_1)\n",
    "    print('training time', training_time_1)\n",
    "    print('training time per sample', training_time_1 /len(X_train))\n",
    "    print('testing  time', testing_time_1)\n",
    "\n",
    "\n",
    "\n",
    "    \n",
    "if __name__ == '__main__':\n",
    "    my_func()"
   ]
  },
  {
   "cell_type": "markdown",
   "metadata": {},
   "source": [
    "# Simple RNN"
   ]
  },
  {
   "cell_type": "code",
   "execution_count": 11,
   "metadata": {
    "scrolled": false
   },
   "outputs": [
    {
     "name": "stdout",
     "output_type": "stream",
     "text": [
      "Model: \"sequential_4\"\n",
      "_________________________________________________________________\n",
      " Layer (type)                Output Shape              Param #   \n",
      "=================================================================\n",
      " conv1d_4 (Conv1D)           (None, 9, 64)             192       \n",
      "                                                                 \n",
      " dense_12 (Dense)            (None, 9, 16)             1040      \n",
      "                                                                 \n",
      " max_pooling1d_4 (MaxPooling  (None, 4, 16)            0         \n",
      " 1D)                                                             \n",
      "                                                                 \n",
      " simple_rnn (SimpleRNN)      (None, 128)               18560     \n",
      "                                                                 \n",
      " flatten_4 (Flatten)         (None, 128)               0         \n",
      "                                                                 \n",
      " dropout_4 (Dropout)         (None, 128)               0         \n",
      "                                                                 \n",
      " dense_13 (Dense)            (None, 100)               12900     \n",
      "                                                                 \n",
      " dense_14 (Dense)            (None, 1)                 101       \n",
      "                                                                 \n",
      "=================================================================\n",
      "Total params: 32,793\n",
      "Trainable params: 32,793\n",
      "Non-trainable params: 0\n",
      "_________________________________________________________________\n",
      "Epoch 1/10\n",
      "440/440 [==============================] - 7s 9ms/step - loss: 0.6243 - accuracy: 0.6607 - val_loss: 0.5233 - val_accuracy: 0.7659\n",
      "Epoch 2/10\n",
      "440/440 [==============================] - 3s 7ms/step - loss: 0.5464 - accuracy: 0.7338 - val_loss: 0.5299 - val_accuracy: 0.7593\n",
      "Epoch 3/10\n",
      "440/440 [==============================] - 3s 7ms/step - loss: 0.5390 - accuracy: 0.7351 - val_loss: 0.5234 - val_accuracy: 0.7496\n",
      "Epoch 4/10\n",
      "440/440 [==============================] - 3s 7ms/step - loss: 0.5101 - accuracy: 0.7620 - val_loss: 0.4576 - val_accuracy: 0.7960\n",
      "Epoch 5/10\n",
      "440/440 [==============================] - 3s 7ms/step - loss: 0.4715 - accuracy: 0.7969 - val_loss: 0.4406 - val_accuracy: 0.8037\n",
      "Epoch 6/10\n",
      "440/440 [==============================] - 3s 7ms/step - loss: 0.4205 - accuracy: 0.8273 - val_loss: 0.3975 - val_accuracy: 0.8632\n",
      "Epoch 7/10\n",
      "440/440 [==============================] - 3s 7ms/step - loss: 0.4097 - accuracy: 0.8374 - val_loss: 0.3452 - val_accuracy: 0.8688\n",
      "Epoch 8/10\n",
      "440/440 [==============================] - 3s 7ms/step - loss: 0.3594 - accuracy: 0.8584 - val_loss: 0.3392 - val_accuracy: 0.8717\n",
      "Epoch 9/10\n",
      "440/440 [==============================] - 3s 7ms/step - loss: 0.3387 - accuracy: 0.8665 - val_loss: 0.3347 - val_accuracy: 0.8617\n",
      "Epoch 10/10\n",
      "440/440 [==============================] - 3s 7ms/step - loss: 0.2984 - accuracy: 0.8805 - val_loss: 0.2624 - val_accuracy: 0.8893\n"
     ]
    }
   ],
   "source": [
    "from keras import layers\n",
    "model5 = Sequential()\n",
    "model5.add(Conv1D(64, 2, activation=\"relu\", input_shape=(10,1)))\n",
    "model5.add(Dense(16, activation=\"relu\"))\n",
    "model5.add(MaxPooling1D())\n",
    "model5.add(layers.SimpleRNN(128))\n",
    "model5.add((Flatten()))\n",
    "model5.add(Dropout(0.5))\n",
    "model5.add(Dense(100, activation='relu'))\n",
    "#Output layer\n",
    "model5.add(Dense(1, activation='sigmoid'))\n",
    "model5.summary()\n",
    "model5.compile(loss = 'binary_crossentropy', \n",
    "     optimizer = \"adam\",               \n",
    "              metrics = ['accuracy'])\n",
    "history5 = model5.fit(X_train, y_train ,validation_data= (X_test,y_test),epochs =10)"
   ]
  },
  {
   "cell_type": "code",
   "execution_count": 12,
   "metadata": {
    "scrolled": false
   },
   "outputs": [
    {
     "name": "stdout",
     "output_type": "stream",
     "text": [
      "ERROR: Could not find file <ipython-input-12-a8cb47c25c71>\n",
      "NOTE: %mprun can only be used on functions defined in physical files, and not in the IPython environment.\n",
      "110/110 [==============================] - 4s 17ms/step\n",
      "======Simple RNN ======\n",
      "TN : 1523\n",
      "FP : 252\n",
      "FN : 137\n",
      "TP : 1603\n",
      " \n",
      "training time : 4.9\n",
      "Prob of Detection     : 92.13\n",
      " \n",
      "Prob of False Alarm   : 14.2\n",
      " \n",
      "Prob of Mis-Detection : 7.87\n",
      " \n",
      "Overall accuracy      : 0.89\n",
      "===============================\n",
      "\n",
      "              precision    recall  f1-score   support\n",
      "\n",
      "           0       0.92      0.86      0.89      1775\n",
      "           1       0.86      0.92      0.89      1740\n",
      "\n",
      "    accuracy                           0.89      3515\n",
      "   macro avg       0.89      0.89      0.89      3515\n",
      "weighted avg       0.89      0.89      0.89      3515\n",
      "\n"
     ]
    },
    {
     "data": {
      "image/png": "[encoded data removed]",
      "text/plain": [
       "<Figure size 432x288 with 2 Axes>"
      ]
     },
     "metadata": {
      "needs_background": "light"
     },
     "output_type": "display_data"
    },
    {
     "data": {
      "image/png": "[encoded data removed]",
      "text/plain": [
       "<Figure size 1080x1296 with 1 Axes>"
      ]
     },
     "metadata": {
      "needs_background": "light"
     },
     "output_type": "display_data"
    },
    {
     "name": "stdout",
     "output_type": "stream",
     "text": [
      "processing time 12.95\n",
      "training time 4.9\n",
      "training time per sample 0.0003485807782599417\n",
      "testing  time 0.0\n",
      "Filename: C:\\Users\\Hamza\\anaconda3\\lib\\site-packages\\memory_profiler.py\n",
      "\n",
      "Line #    Mem usage    Increment  Occurrences   Line Contents\n",
      "=============================================================\n",
      "  1183    730.3 MiB    730.3 MiB           1               @wraps(wrapped=func)\n",
      "  1184                                                     def wrapper(*args, **kwargs):\n",
      "  1185    730.3 MiB      0.0 MiB           1                   prof = get_prof()\n",
      "  1186    733.5 MiB      3.2 MiB           1                   val = prof(func)(*args, **kwargs)\n",
      "  1187    733.5 MiB      0.0 MiB           1                   show_results_bound(prof)\n",
      "  1188    733.5 MiB      0.0 MiB           1                   return val\n",
      "\n",
      "\n"
     ]
    },
    {
     "data": {
      "image/png": "[encoded data removed]",
      "text/plain": [
       "<Figure size 500x500 with 1 Axes>"
      ]
     },
     "metadata": {
      "needs_background": "light"
     },
     "output_type": "display_data"
    }
   ],
   "source": [
    "@profile\n",
    "@profile\n",
    "\n",
    "def my_func():\n",
    "    \n",
    "    time_a_1 = time.time()\n",
    "    time_c_1 = time.time()\n",
    "    \n",
    "    \n",
    "    \n",
    "    \n",
    "    # metrics calculation\n",
    "    pred5 = model5.predict(X_test)   \n",
    "    cm=confusion_matrix(y_test, np.round(pred5))\n",
    "    cm\n",
    "    TN, FP, FN, TP = confusion_matrix(y_test, np.round(pred5)).ravel()\n",
    "    \n",
    "    \n",
    "    \n",
    "    print('======Simple RNN ======')\n",
    "    print('TN : {}\\nFP : {}\\nFN : {}\\nTP : {}'.format(TN, FP, FN, TP))\n",
    "    print(' ')\n",
    "    \n",
    "    \n",
    "    time_d_1 = time.time()\n",
    "    training_time_1 = round(time_d_1 - time_c_1,2)\n",
    "    print ('training time :',training_time_1)\n",
    "    time_e_1 = time.time()\n",
    "    \n",
    "    \n",
    "    \n",
    "    # Probability of Detection\n",
    "    prob_of_detect_1 = round((TP/(TP+FN))*100,2)\n",
    "    print('Prob of Detection     : {}'.format(prob_of_detect_1))\n",
    "    print(' ')\n",
    "    # Probability of False Alarm\n",
    "    prob_of_false_1 = round((FP/(FP+TN))*100,2)\n",
    "    print('Prob of False Alarm   : {}'.format(prob_of_false_1))\n",
    "    print(' ')\n",
    "    # Probability of Mis-Detection\n",
    "    prob_of_misdetect_1 = round((FN/(TP+FN))*100,2)\n",
    "    print('Prob of Mis-Detection : {}'.format(prob_of_misdetect_1))\n",
    "    print(' ')\n",
    "    # Overall accuracy\n",
    "    accuracy_1 = round((TP+TN)/(TP+FP+FN+TN),2)\n",
    "    print('Overall accuracy      : {}'.format(accuracy_1))\n",
    "    print(\"===============================\\n\")\n",
    "    \n",
    "    time_f_1 = time.time()\n",
    "    testing_time_1 = round(time_f_1 - time_e_1,2)\n",
    "\n",
    "    \n",
    "    \n",
    "    \n",
    "    sns.heatmap(cm, annot=True, fmt=\".3f\", linewidths=.5, square = True, cmap = 'Blues_r');\n",
    "    print(classification_report(y_test,np.round(pred5)))\n",
    "    \n",
    "    from sklearn.metrics import roc_curve, auc\n",
    "    import matplotlib.pyplot as plt\n",
    "    losses=history5.history['loss']\n",
    "    val_losses=history5.history['val_loss']\n",
    "    fig = plt.figure(figsize=(15,18))\n",
    "    plt.subplot(3, 2, 1)\n",
    "    plt.plot(losses, label='Training loss')\n",
    "    plt.plot(val_losses, label='Validation loss')\n",
    "    plt.title('Model loss')\n",
    "    plt.ylabel('loss value')\n",
    "    plt.xlabel('Noumber of epoch')\n",
    "    plt.show()\n",
    "    \n",
    "    fpr1, tpr1, threshold = roc_curve(y_test,np.round(pred5))\n",
    "    auc1 = auc(fpr1, tpr1)\n",
    "\n",
    "    plt.figure(figsize=(10, 10), dpi=50)\n",
    "    plt.plot(fpr1, tpr1, marker='^',color = \"g\", label='auc = %0.2f' % auc1)\n",
    "    plt.xlabel('False Positive Rate -->')\n",
    "    plt.ylabel('True Positive Rate -->')\n",
    "    plt.legend()\n",
    "    \n",
    "    time_b_1 = time.time()\n",
    "    processing_time_1 = round(time_b_1 - time_a_1,2)\n",
    "    \n",
    "    print('processing time', processing_time_1)\n",
    "    print('training time', training_time_1)\n",
    "    print('training time per sample', training_time_1 /len(X_train))\n",
    "    print('testing  time', testing_time_1)\n",
    "\n",
    "\n",
    "\n",
    "    \n",
    "if __name__ == '__main__':\n",
    "    my_func()"
   ]
  },
  {
   "cell_type": "code",
   "execution_count": null,
   "metadata": {},
   "outputs": [],
   "source": []
  }
 ],
 "metadata": {
  "colab": {
   "provenance": []
  },
  "kernelspec": {
   "display_name": "Python 3 (ipykernel)",
   "language": "python",
   "name": "python3"
  },
  "language_info": {
   "codemirror_mode": {
    "name": "ipython",
    "version": 3
   },
   "file_extension": ".py",
   "mimetype": "text/x-python",
   "name": "python",
   "nbconvert_exporter": "python",
   "pygments_lexer": "ipython3",
   "version": "3.9.13"
  }
 },
 "nbformat": 4,
 "nbformat_minor": 1
}
